{
  "cells": [
    {
      "cell_type": "markdown",
      "metadata": {
        "id": "view-in-github",
        "colab_type": "text"
      },
      "source": [
        "<a href=\"https://colab.research.google.com/github/andreahorbach/SeminarMSV/blob/main/TR_10.ipynb\" target=\"_parent\"><img src=\"https://colab.research.google.com/assets/colab-badge.svg\" alt=\"Open In Colab\"/></a>"
      ]
    },
    {
      "cell_type": "markdown",
      "metadata": {
        "id": "YfJsWPpAK-3f"
      },
      "source": [
        "## Sitzung 10: Weitere Beispiele\n",
        "Hier ein Beispiel für einen einfachen BOW-Classifier\n",
        "\n"
      ]
    },
    {
      "cell_type": "code",
      "source": [
        "from google.colab import drive\n",
        "drive.mount('/content/drive/', force_remount=True)"
      ],
      "metadata": {
        "id": "h-BZTq3Y00vE"
      },
      "execution_count": null,
      "outputs": []
    },
    {
      "cell_type": "code",
      "source": [
        "with open('/content/drive/My Drive/MSV_Seminar/example.txt') as f:\n",
        "    lines = f.readlines()\n",
        "    print(lines)"
      ],
      "metadata": {
        "id": "yDBpJpoN1gCV"
      },
      "execution_count": null,
      "outputs": []
    },
    {
      "cell_type": "markdown",
      "source": [
        "**CSV-Dateien öffnen.**\n",
        "\n",
        "Oft werden Datensätze als Tabellen repräsentiert, eine Instanz pro Zeile, die einzelnen Itemeinträge durch Komma getrennt (z.B. Text und Goldlabel). So eine CSV Datei können Sie besonders gut mit dem Pandas Package einlesen.\n"
      ],
      "metadata": {
        "id": "nV8fS4k6ZydI"
      }
    },
    {
      "cell_type": "markdown",
      "source": [
        "**Machine Learning**\n",
        "\n",
        "Im Folgenden sehen Sie ein Beispiel, wie Sie eine CSV-Datei einlesen, aus jedem Text einen Featurevektor extrahieren und sich so die Daten für ein Machine Learning Experiment zusammenstellen. Wir benutzen einen Bag-of-Words-Ansatz, benutzen also das Vorhandensein von bestimmten Wörtern in einem Text als Features. Laden Sie zunächst die Datei spam.csv aus dem Learnweb und legen Sie sie in ihren MSV-Seminar Ordner im google drive."
      ],
      "metadata": {
        "id": "QSbHgXRmaPah"
      }
    },
    {
      "cell_type": "code",
      "source": [
        "import pandas as pd\n",
        "\n",
        "import pandas as pd\n",
        "from sklearn.model_selection import train_test_split\n",
        "from sklearn.feature_extraction.text import CountVectorizer\n",
        "from sklearn.linear_model import LogisticRegression\n",
        "from sklearn.metrics import accuracy_score, precision_score, recall_score, confusion_matrix\n",
        "\n",
        "\n",
        "# Read the CSV file into a DataFrame\n",
        "df = pd.read_csv('/content/drive/My Drive/MSV_Seminar/spam.csv', encoding='latin-1')\n",
        "\n",
        "# Print the resulting DataFrame\n",
        "print(df)\n",
        "\n",
        "# Extract features ('v2') and labels ('v1')\n",
        "X = df['v2'].astype(str)\n",
        "y = df['v1']\n",
        "\n",
        "# Split the data into training and testing sets (80:20)\n",
        "X_train, X_test, y_train, y_test = train_test_split(X, y, test_size=0.2, random_state=42)\n",
        "\n",
        "# Create a CountVectorizer to convert a collection of text documents to a matrix of token counts\n",
        "vectorizer = CountVectorizer()\n",
        "\n",
        "# Fit and transform the training data\n",
        "X_train_bow = vectorizer.fit_transform(X_train)\n",
        "\n",
        "# Transform the test data using the same vectorizer\n",
        "X_test_bow = vectorizer.transform(X_test)\n",
        "\n",
        "# Build a logistic regression classifier\n",
        "classifier = LogisticRegression()\n",
        "\n",
        "# Train the classifier\n",
        "classifier.fit(X_train_bow, y_train)\n",
        "\n",
        "# Make predictions on the test set\n",
        "y_pred = classifier.predict(X_test_bow)\n",
        "\n",
        "# Evaluate the classifier\n",
        "accuracy = accuracy_score(y_test, y_pred)\n",
        "precision = precision_score(y_test, y_pred, pos_label='spam')\n",
        "recall = recall_score(y_test, y_pred, pos_label='spam')\n",
        "conf_matrix = confusion_matrix(y_test, y_pred, labels=['ham', 'spam'])\n",
        "\n",
        "# Print evaluation metrics\n",
        "print(f\"Accuracy: {accuracy:.4f}\")\n",
        "print(f\"Precision: {precision:.4f}\")\n",
        "print(f\"Recall: {recall:.4f}\")\n",
        "\n",
        "# Print confusion matrix\n",
        "print(\"Confusion Matrix:\")\n",
        "print(conf_matrix)\n"
      ],
      "metadata": {
        "id": "YIOQf0-USF7f"
      },
      "execution_count": null,
      "outputs": []
    },
    {
      "cell_type": "markdown",
      "source": [
        "**Texte in kleinere Einheiten zerlegen**\n",
        "\n",
        "Hier können Sie sich anschauen, wie Sie einen Text in kleinere Einheiten zerlegen."
      ],
      "metadata": {
        "id": "d_fq702fa87g"
      }
    },
    {
      "cell_type": "code",
      "source": [
        "import nltk\n",
        "from nltk.tokenize import word_tokenize\n",
        "\n",
        "# Sample text\n",
        "text = \"The University of Hildesheim originated from the University of Education in Alfeld established in 1946. Because of the massive destruction of the city of Hildesheim during the Second World War, the university was relocated to Alfeld, which remained mostly intact. Under its director Hans Abmeier, 110 students were registered in the university in its first academic year in 1946/47, and approximately 50 students for several years after that. The aim of the university was to provide teachers for the Catholic population in the British zone, without religion being a necessary condition for admission. Hans-Otto Knackstedt, chaplain, taught Catholic theology, and Otto Brauckmann, musical director in cathedrals, taught music in the university. Under the director and Catholic philosopher Franz Flintrop, the Alfeld University of Education became independent from the Ministry of Education and finally, under rector Günter Klages, it was relocated back to Hildesheim in 1970 as a department of the University of Education of Lower Saxony (Pädagogische Hochschule Niedersachsen). In 1978 the university became independent once again and was named as Scientific University of Hildesheim under rector Heinz-Wilhelm Alten. In 1989, it was renamed University of Hildesheim by the rector Reinhard Göllner. Ulla Bosse was its first president serving from 1998 until 2002.\"\n",
        "\n",
        "# Download NLTK resources (if not already downloaded)\n",
        "nltk.download('punkt')\n",
        "\n",
        "# Tokenize the text into words\n",
        "words = word_tokenize(text)\n",
        "\n",
        "# Extract portions of the text\n",
        "first_10_words = \" \".join(words[:10])\n",
        "first_50_words = \" \".join(words[:50])\n",
        "first_100_words = \" \".join(words[:100])\n",
        "\n",
        "# Print the results\n",
        "print(\"First 10 words:\")\n",
        "print(first_10_words)\n",
        "\n",
        "print(\"\\nFirst 50 words:\")\n",
        "print(first_50_words)\n",
        "\n",
        "print(\"\\nFirst 100 words:\")\n",
        "print(first_100_words)\n"
      ],
      "metadata": {
        "id": "bZdZN_FYQn0S"
      },
      "execution_count": null,
      "outputs": []
    }
  ],
  "metadata": {
    "colab": {
      "provenance": [],
      "authorship_tag": "ABX9TyNaaXa+3vqifN1coYVjmYyI",
      "include_colab_link": true
    },
    "kernelspec": {
      "display_name": "Python 3",
      "name": "python3"
    },
    "language_info": {
      "name": "python"
    }
  },
  "nbformat": 4,
  "nbformat_minor": 0
}