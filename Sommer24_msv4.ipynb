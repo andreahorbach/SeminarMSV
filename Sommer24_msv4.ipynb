{
  "cells": [
    {
      "cell_type": "markdown",
      "metadata": {
        "id": "view-in-github",
        "colab_type": "text"
      },
      "source": [
        "<a href=\"https://colab.research.google.com/github/andreahorbach/SeminarMSV/blob/main/Sommer24_msv4.ipynb\" target=\"_parent\"><img src=\"https://colab.research.google.com/assets/colab-badge.svg\" alt=\"Open In Colab\"/></a>"
      ]
    },
    {
      "cell_type": "markdown",
      "metadata": {
        "id": "YfJsWPpAK-3f"
      },
      "source": [
        "## Sitzung 4: Evaluation\n",
        "Wenn Sie mit eigenen Datensätzen arbeiten, müssen Sie Ihr Notebook mit einem Ordner in ihrem Google Drive verbinden. Hier ist die Anleitung:\n",
        "\n",
        "*   Legen Sie in ihrem Google Drive einen Ordner \"Seminar MSV\" an\n",
        "*   Laden Sie in diesen Ordner eine txt-Datei, als Beispiel für eine Datei, die Sie  einlesen möchten.\n",
        "* Führen Sie dann den (gegebenenfalls angepassten) Code unten aus, bestätigen Sie den Zugriff, wenn Sie danach gefragt werden.\n",
        "* Achtung: \"My Drive\" ist der Name ihres Homeverzeichnisses, den Ordner müssen Sie nicht extra anlegen.\n",
        "\n"
      ]
    },
    {
      "cell_type": "code",
      "source": [
        "from google.colab import drive\n",
        "drive.mount('/content/drive/', force_remount=True)"
      ],
      "metadata": {
        "id": "h-BZTq3Y00vE"
      },
      "execution_count": null,
      "outputs": []
    },
    {
      "cell_type": "code",
      "source": [
        "with open('/content/drive/My Drive/MSV_Seminar/example.txt') as f:\n",
        "    lines = f.readlines()\n",
        "    print(lines)"
      ],
      "metadata": {
        "id": "yDBpJpoN1gCV"
      },
      "execution_count": null,
      "outputs": []
    },
    {
      "cell_type": "markdown",
      "source": [
        "**Einlesen einer csv Datei mit Pandas:**\n",
        "\n",
        "Als nächstes Lesen Sie eine csv-Datei ein (comma-separated values, in unserem Fall Semicolons) ein. Wir lassen uns den Inhalt der Datei ausgeben.\n",
        "\n"
      ],
      "metadata": {
        "id": "1nsVwuZy1eYL"
      }
    },
    {
      "cell_type": "code",
      "source": [
        "import pandas as pd\n",
        "\n",
        "# Pfad zur CSV-Datei\n",
        "csv_file_path = \"/content/drive/My Drive/MSV_Seminar/EduNLP_Beispiel.csv\"  # Bitte den Pfad zur CSV-Datei anpassen\n",
        "\n",
        "# Einlesen der CSV-Datei\n",
        "df = pd.read_csv(csv_file_path, delimiter=';')\n",
        "\n",
        "# Ausgabe des Inhalts des DataFrames\n",
        "print(df)"
      ],
      "metadata": {
        "id": "BlO29nsz1mNI"
      },
      "execution_count": null,
      "outputs": []
    },
    {
      "cell_type": "markdown",
      "source": [
        "Als nächstes berechnen wir die Accuracy zwischen Annotator 1 und 2:"
      ],
      "metadata": {
        "id": "e4kjEJ9C4CMF"
      }
    },
    {
      "cell_type": "code",
      "source": [
        "from sklearn.metrics import accuracy_score\n",
        "\n",
        "# Compute accuracy using sklearn\n",
        "accuracy = accuracy_score(df['Anno1'], df['Anno2'])\n",
        "\n",
        "print(\"Accuracy between annotator 1 and annotator 2:\", accuracy)"
      ],
      "metadata": {
        "id": "WcY9znny4Ked"
      },
      "execution_count": null,
      "outputs": []
    },
    {
      "cell_type": "markdown",
      "source": [
        "Und jetzt die Konfusionsmatrix:"
      ],
      "metadata": {
        "id": "NTB60oRY4ePl"
      }
    },
    {
      "cell_type": "code",
      "source": [
        "from sklearn.metrics import confusion_matrix\n",
        "\n",
        "conf_matrix = confusion_matrix(df['Anno1'], df['Anno2'])\n",
        "\n",
        "print(\"Konfusionsmatrix:\")\n",
        "print(conf_matrix)"
      ],
      "metadata": {
        "id": "bLDHHMkg4g6i"
      },
      "execution_count": null,
      "outputs": []
    },
    {
      "cell_type": "markdown",
      "source": [
        "**Aufgabe 1**\n",
        "Nehmen Sie jetzt Annotator 1 als den Goldstandard und lassen Sie sich die Konfusionsmatrix zwischen Annotator 1 und dem Tool ausgeben. Berechnen Sie auch Accuracy. Vergleichen Sie dann mit den Werten für Annotator 2. Für welchen Annotatorfunktioniert das Tool besser?"
      ],
      "metadata": {
        "id": "zOwSNMAX4n6T"
      }
    },
    {
      "cell_type": "markdown",
      "source": [
        "**Aufgabe 2**\n",
        "Berechnen Sie Precision und Recall für das Label \"y\" (also das Vorhandensein eines Fehlers). Nutzen Sie dazu die entsprechenden scikit learn Methoden: https://scikit-learn.org/stable/modules/generated/sklearn.metrics.precision_recall_fscore_support.html"
      ],
      "metadata": {
        "id": "FpJqnf1I5If2"
      }
    }
  ],
  "metadata": {
    "colab": {
      "provenance": [],
      "authorship_tag": "ABX9TyOcY65+b+SmS1tb5GipD0Sa",
      "include_colab_link": true
    },
    "kernelspec": {
      "display_name": "Python 3",
      "name": "python3"
    },
    "language_info": {
      "name": "python"
    }
  },
  "nbformat": 4,
  "nbformat_minor": 0
}