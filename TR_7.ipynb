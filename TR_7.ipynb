{
  "cells": [
    {
      "cell_type": "markdown",
      "metadata": {
        "id": "view-in-github",
        "colab_type": "text"
      },
      "source": [
        "<a href=\"https://colab.research.google.com/github/andreahorbach/SeminarMSV/blob/main/TR_7.ipynb\" target=\"_parent\"><img src=\"https://colab.research.google.com/assets/colab-badge.svg\" alt=\"Open In Colab\"/></a>"
      ]
    },
    {
      "cell_type": "markdown",
      "metadata": {
        "id": "YfJsWPpAK-3f"
      },
      "source": [
        "## Sitzung 7: Arbeit mit externen Datensätzen\n",
        "\n",
        "Bisher haben wir mit dem NLTK-Gutenberg-Corpus gearbeitet. Wenn Sie mit anderen Datensätzen arbeiten, die Sie nicht direkt herunterladen können, müssen Sie ihr Notebook mit einemOrdner in ihrem Google Drive verbinden. Hier ist die Anleitung:\n",
        "\n",
        "*   Legen Sie in ihrem Google Drive einen Ordner \"Seminar MSV\" an\n",
        "*   Laden Sie in diesen ordner eine txt-Datei, als Beispiel für eine Datei, die Sie  einlesen möchten.\n",
        "* Führen Sie dann den (gegebenenfalls angepassten) Code unten aus, bestätigen Sie den Zugriff, wenn Sie danach gefragt werden.\n",
        "* Achtung: \"My Drive\" ist der Name ihres Homeverzeichnisses, den Ordner müssen Sie nicht extra anlegen.\n",
        "\n"
      ]
    },
    {
      "cell_type": "code",
      "source": [
        "from google.colab import drive\n",
        "drive.mount('/content/drive/', force_remount=True)"
      ],
      "metadata": {
        "id": "h-BZTq3Y00vE"
      },
      "execution_count": null,
      "outputs": []
    },
    {
      "cell_type": "code",
      "source": [
        "with open('/content/drive/My Drive/MSV_Seminar/example.txt') as f:\n",
        "    lines = f.readlines()\n",
        "    print(lines)"
      ],
      "metadata": {
        "id": "yDBpJpoN1gCV"
      },
      "execution_count": null,
      "outputs": []
    }
  ],
  "metadata": {
    "colab": {
      "provenance": [],
      "authorship_tag": "ABX9TyPxBKHEtHYn7svYO4EcNWQV",
      "include_colab_link": true
    },
    "kernelspec": {
      "display_name": "Python 3",
      "name": "python3"
    },
    "language_info": {
      "name": "python"
    }
  },
  "nbformat": 4,
  "nbformat_minor": 0
}