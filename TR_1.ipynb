{
  "nbformat": 4,
  "nbformat_minor": 0,
  "metadata": {
    "colab": {
      "provenance": [],
      "authorship_tag": "ABX9TyPaXnbGhfUIT4U2RM4dFftk",
      "include_colab_link": true
    },
    "kernelspec": {
      "name": "python3",
      "display_name": "Python 3"
    },
    "language_info": {
      "name": "python"
    }
  },
  "cells": [
    {
      "cell_type": "markdown",
      "metadata": {
        "id": "view-in-github",
        "colab_type": "text"
      },
      "source": [
        "<a href=\"https://colab.research.google.com/github/andreahorbach/SeminarMSV/blob/main/TR_1.ipynb\" target=\"_parent\"><img src=\"https://colab.research.google.com/assets/colab-badge.svg\" alt=\"Open In Colab\"/></a>"
      ]
    },
    {
      "cell_type": "markdown",
      "source": [
        "**Beispiel 1:** Führen Sie die erste Zelle aus und beobachten Sie, was passiert."
      ],
      "metadata": {
        "id": "YfJsWPpAK-3f"
      }
    },
    {
      "cell_type": "code",
      "execution_count": null,
      "metadata": {
        "id": "GHlLrabSJNPJ"
      },
      "outputs": [],
      "source": [
        "for i in range(10):\n",
        "  print(i)"
      ]
    },
    {
      "cell_type": "markdown",
      "source": [
        "**Beispiel 2:** Eine simple NLP Pipeline-fürs Englische. Änders Sie den Text und beobachten Sie, was passiert."
      ],
      "metadata": {
        "id": "E81kpFpGMbC-"
      }
    },
    {
      "cell_type": "code",
      "source": [
        "import nltk\n",
        "nltk.download('punkt')\n",
        "nltk.download('averaged_perceptron_tagger')\n",
        "nltk.download('maxent_ne_chunker')\n",
        "nltk.download('words')\n",
        "text = (\"Mr. and Mrs. Dursley, of number four, Privet Drive, were proud to saythat they were perfectly normal, thank you very much. \"\n",
        "+\"They were the last people you'd expect to be involved in anything strange or mysterious, because they just didn't hold with such nonsense.\")\n",
        "sentences = nltk.sent_tokenize(text)\n",
        "for sentence in sentences:\n",
        "    words = nltk.word_tokenize(sentence)\n",
        "    tagged_words = nltk.pos_tag(words)\n",
        "    ne_tagged_words = nltk.ne_chunk(tagged_words)\n",
        "    print(ne_tagged_words)"
      ],
      "metadata": {
        "id": "GkwvsdtFJdla"
      },
      "execution_count": null,
      "outputs": []
    }
  ]
}