{
  "cells": [
    {
      "cell_type": "markdown",
      "metadata": {
        "id": "view-in-github",
        "colab_type": "text"
      },
      "source": [
        "<a href=\"https://colab.research.google.com/github/andreahorbach/SeminarMSV/blob/main/TR_5.ipynb\" target=\"_parent\"><img src=\"https://colab.research.google.com/assets/colab-badge.svg\" alt=\"Open In Colab\"/></a>"
      ]
    },
    {
      "cell_type": "markdown",
      "metadata": {
        "id": "YfJsWPpAK-3f"
      },
      "source": [
        "## Sitzung 5: Plagiatserkennung - Teil 2\n",
        "Heute schauen wir uns an, wie man mit Ähnlichkeitsmethoden einen Plagiatserkenner trainiert. Wir bauen auf die Ähnlichkeitsmaße aus der letzten Sitzung auf."
      ]
    },
    {
      "cell_type": "markdown",
      "source": [
        "**Schritt 1: String Similarity / Oberflächenähnlichkeit**\n",
        "Dieser Code sollte Ihnen aus der letzten Sitzung bekannt vorkommen."
      ],
      "metadata": {
        "id": "6owx9YXU68X9"
      }
    },
    {
      "cell_type": "code",
      "source": [
        "!pip install -U strsimpy # installiere die notwendigen Pakete\n",
        "!pip install pylcs"
      ],
      "metadata": {
        "id": "RGE6qkTC66_0"
      },
      "execution_count": null,
      "outputs": []
    },
    {
      "cell_type": "code",
      "source": [
        "from strsimpy.levenshtein import Levenshtein\n",
        "from pylcs import lcs_string_length\n",
        "\n",
        "levenshtein = Levenshtein()\n",
        "\n",
        "# Beispiele, die Sie zum Austesten verändern können\n",
        "s1 = 'Ein Beispiel'\n",
        "s2 = 'Ein Beispöl'\n",
        "s3 = 'Anna isst einen Apfel'\n",
        "s4 = 'Anna ist eine Apfelsine.'\n",
        "\n",
        "#Levenshtein distance\n",
        "print(levenshtein.distance(s1, s2))\n",
        "print(levenshtein.distance(s3, s4))\n",
        "\n",
        "# Longest Common Substring\n",
        "print(lcs_string_length(s1, s2))\n",
        "print(lcs_string_length(s3, s4))\n"
      ],
      "metadata": {
        "id": "ervlFSMXWG2-"
      },
      "execution_count": null,
      "outputs": []
    },
    {
      "cell_type": "markdown",
      "source": [
        "**Schritt 2: Semantic Similarity**\n",
        "Auch diesen Code kennen Sie bereits."
      ],
      "metadata": {
        "id": "9kNnQuJw8-p6"
      }
    },
    {
      "cell_type": "code",
      "source": [
        "!pip install -U sentence-transformers\n",
        "from sentence_transformers import SentenceTransformer, util\n",
        "model = SentenceTransformer('distiluse-base-multilingual-cased-v1')"
      ],
      "metadata": {
        "id": "pkJWYQ6jXhjw"
      },
      "execution_count": 18,
      "outputs": []
    },
    {
      "cell_type": "code",
      "source": [
        "def compute_semantic_similarity(s1, s2):\n",
        "    embeddings1 = model.encode([s1], convert_to_tensor=True)\n",
        "    embeddings2 = model.encode([s2], convert_to_tensor=True)\n",
        "    return util.cos_sim(embeddings1, embeddings2)[0][0]\n",
        "\n",
        "print(\"{:.4f}\".format(compute_semantic_similarity(\"Mary walks home.\", \"Mary goes to her house\")))\n",
        "print(\"{:.4f}\".format(compute_semantic_similarity(\"Maria geht nach Hause.\", \"Maria fährt heim.\")))"
      ],
      "metadata": {
        "colab": {
          "base_uri": "https://localhost:8080/"
        },
        "id": "1yLISXfX9H2p",
        "outputId": "1d51ac1a-464b-4209-ff9d-5c8f7ba129ac"
      },
      "execution_count": 4,
      "outputs": [
        {
          "output_type": "stream",
          "name": "stdout",
          "text": [
            "0.8669\n",
            "0.9184\n"
          ]
        }
      ]
    },
    {
      "cell_type": "markdown",
      "source": [
        "**Aufgabe 1 (von letzter Woche):** Nehmen Sie an, Sie möchten den ersten Abschnitt des Wikipediaartikels zum Thema Plagiat plagiieren. Er lautet \"Ein Plagiat ist die Anmaßung fremder geistiger Leistungen. Dies kann sich auf die Übernahme fremder Texte oder anderer Darstellungen bzw. Ideen beziehen, z. B. Zeitungs-, Magazinartikel, Fotos, Filme, Tonaufnahmen, Musik sowie Erfindungen, Design, wissenschaftliche Erkenntnisse, Melodien oder beides gleichzeitig.\"\n",
        "\n",
        "Probieren Sie, wie Sie diese beiden Sätze so umformen können, dass durch Ihre Methoden möglichst nicht mehr direkt als Plagiat erkennbar sind. Probieren Sie verschiedene Optionen aus und beobachten Sie, wie sich die Werte der Metriken verändern."
      ],
      "metadata": {
        "id": "QHfG0XZs1zl4"
      }
    },
    {
      "cell_type": "markdown",
      "source": [
        "**Schritt 3:** \"To be or not to be that is the question\" schrieb Shakespeare. Finden Sie - für jedes der drei Maße - den ähnlichsten Satz bei Jane Austen. Ist der Satz ein Plagiat? Hier eine mögliche Lösung - ebenfalls von letzter Woche."
      ],
      "metadata": {
        "id": "TUJ12RWo0gg5"
      }
    },
    {
      "cell_type": "code",
      "source": [
        "import nltk\n",
        "nltk.download('gutenberg')\n",
        "nltk.download('punkt')\n",
        "from nltk.corpus import gutenberg\n",
        "\n",
        "austen1 = gutenberg.sents('austen-emma.txt')[0:500] # consider only the first 500 sentence, can be adjusted depending on how long you want to wait\n",
        "shakespeare = \"To be or not to be that is the question .\"\n",
        "maxSim = 0.0\n",
        "bestSentence = \"dummy\"\n",
        "for sent in austen1:\n",
        "  text = \" \".join(sent) # macht aus der Liste von Tokens wieder einen Text.\n",
        "  sim = compute_semantic_similarity(shakespeare, text)\n",
        "  if (sim > maxSim):\n",
        "      print(\"new most similar sentence: \", sim, text)\n",
        "      maxSim = sim\n",
        "      bestSentence = text\n",
        "print(\"Final results: \", maxSim, bestSentence)\n"
      ],
      "metadata": {
        "id": "1_j3QUHk13WX"
      },
      "execution_count": null,
      "outputs": []
    },
    {
      "cell_type": "markdown",
      "source": [
        "**Schritt 4:** Um nach \"echten \" Plagiaten suchen können, ergänzen wir das Jane Austen Corpus um einige plagiierte Versionen des Shakespear-Zitates. Außerdem merken wir uns in einem separaten Array für jeden Satz das Label als kein-Plagiat (K) oder Plagiat (P). (Sie erinnern sich, das haben wir beim Machine Learninig vor zwei Sitzungen auch schon so gemacht) Natürlich sind nur unsere Ergänzungen Plagiate."
      ],
      "metadata": {
        "id": "Avs0U9m3XzUe"
      }
    },
    {
      "cell_type": "code",
      "source": [
        "plagiate = [\"Not to be or to be is an important question\", \"I am wondering whether one should be.\", \"Existence is very relevant\", \"Sein oder nichtsein, das ist hier die Frage\"]\n",
        "sentences = plagiate + [\" \".join(sent) for sent in austen1]\n",
        "gold_labels = len(plagiate)*[\"P\"] + [\"K\" for sent in austen1]\n",
        "print(sentences)\n",
        "print(gold_labels)"
      ],
      "metadata": {
        "id": "RacUjE1pXw1b"
      },
      "execution_count": null,
      "outputs": []
    },
    {
      "cell_type": "markdown",
      "source": [
        "**Aufgabe 2:** Ergänzen Sie 5 weitere Sätze, die Plagiate des Shakespearezitats sind mit dem Label P."
      ],
      "metadata": {
        "id": "Ikt_zJ4AZ2e0"
      }
    },
    {
      "cell_type": "markdown",
      "source": [
        "**Aufgabe 3:** Benutzen Sie den Algorithmus von oben und suchen Sie  Satz aus 'sentence', der am ähnlichsten zum Shakespearezitat ist. Ist er ein Plagiat?"
      ],
      "metadata": {
        "id": "HH8FLyyTapW1"
      }
    },
    {
      "cell_type": "markdown",
      "source": [
        "**Aufgabe 4:** Als nächstes sollen Sie die Sätze nach ihrer Ähnlichkeit zum Originalzitat sortieren. Sie müssen sich dafür also jede Ähnlichkeit zusammen mit dem Satz merken. Legen Sie dazu ein neues Array an, in dem Sie für jeden Satz die Similarity zum Shakespearezitat speichern.\n",
        "\n",
        "Achtung: Sie haben dann am Ende drei Arrays, eines mit den Sätzen, eines mit den Gold-Labels und eines mit den Similarities. Sie wollen alle drei Essays auf die gleiche Art sortieren, nämlich absteigend nach dem Wert des Similarity-Arrays. Hier ist Beispielcode für die Sortierung, den Sie für die Lösung der Aufgabe verwenden können."
      ],
      "metadata": {
        "id": "PqPlvIFCa-YB"
      }
    },
    {
      "cell_type": "code",
      "source": [
        "# Example arrays\n",
        "array1 = [3, 1, 4, 1, 5, 9, 2, 6]\n",
        "array2 = ['C', 'A', 'D', 'A', 'E', 'I', 'B', 'F']\n",
        "array3 = ['apple', 'banana', 'cherry', 'avocado', 'elderberry', 'kiwi', 'blueberry', 'fig']\n",
        "\n",
        "# Sort all three arrays based on the values of array1\n",
        "sorted_arrays = sorted(zip(array1, array2, array3), key=lambda x: x[0])\n",
        "\n",
        "# Unpack the sorted tuples back into separate arrays\n",
        "sorted_array1, sorted_array2, sorted_array3 = zip(*sorted_arrays)\n",
        "\n",
        "# Print the sorted arrays\n",
        "print(\"Sorted Array 1:\", sorted_array1)\n",
        "print(\"Sorted Array 2:\", sorted_array2)\n",
        "print(\"Sorted Array 3:\", sorted_array3)"
      ],
      "metadata": {
        "id": "hizClG-gfh_I"
      },
      "execution_count": null,
      "outputs": []
    },
    {
      "cell_type": "markdown",
      "source": [
        "**Aufgabe 5:** Setzen Sie einen Threshold bei 0.9, so dass sie jeden Text mit einem Similarity-Wert über 0.9 als Plagiat behandeln und berechnen Sie Precision und Recall.\n",
        "\n",
        "Auch hier gibt es in der nächsten Codezelle ein Beispiel, wie Sie Precision, Recall und F-Score mit Hilfe des sklearn packages berechnen. Überlegen Sie , wie Sie die true labels und die predicted labels für Ihr Beispiel befüllen."
      ],
      "metadata": {
        "id": "guKprPM7bZqL"
      }
    },
    {
      "cell_type": "code",
      "source": [
        "from sklearn.metrics import precision_score, recall_score, f1_score\n",
        "\n",
        "# Example true labels and predicted labels\n",
        "true_labels = [1, 0, 1, 1, 0, 1, 0, 1]\n",
        "predicted_labels = [1, 0, 1, 0, 0, 1, 0, 0]\n",
        "\n",
        "# Specify the positive class (class '1')\n",
        "positive_class = 1\n",
        "\n",
        "# Compute precision for class '1'\n",
        "precision = precision_score(true_labels, predicted_labels, pos_label=positive_class)\n",
        "\n",
        "# Compute recall for class '1'\n",
        "recall = recall_score(true_labels, predicted_labels, pos_label=positive_class)\n",
        "\n",
        "# Compute F1 score for class '1'\n",
        "f1 = f1_score(true_labels, predicted_labels, pos_label=positive_class)\n",
        "\n",
        "# Print the results\n",
        "print(\"Precision for class '1': {:.2f}\".format(precision))\n",
        "print(\"Recall for class '1': {:.2f}\".format(recall))\n",
        "print(\"F1 Score for class '1': {:.2f}\".format(f1))"
      ],
      "metadata": {
        "id": "agdKm_qugB6O"
      },
      "execution_count": null,
      "outputs": []
    },
    {
      "cell_type": "markdown",
      "source": [
        "**Aufgabe 6:**  Finden Sie durch ausprobieren den Threshold, der den F-Score maximiert."
      ],
      "metadata": {
        "id": "iG6smOqrbk_s"
      }
    }
  ],
  "metadata": {
    "colab": {
      "provenance": [],
      "authorship_tag": "ABX9TyOnbOt4mKdF5dJNMwvesq1e",
      "include_colab_link": true
    },
    "kernelspec": {
      "display_name": "Python 3",
      "name": "python3"
    },
    "language_info": {
      "name": "python"
    }
  },
  "nbformat": 4,
  "nbformat_minor": 0
}