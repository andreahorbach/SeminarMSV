{
  "cells": [
    {
      "cell_type": "markdown",
      "metadata": {
        "id": "view-in-github",
        "colab_type": "text"
      },
      "source": [
        "<a href=\"https://colab.research.google.com/github/andreahorbach/SeminarMSV/blob/main/TR_5.ipynb\" target=\"_parent\"><img src=\"https://colab.research.google.com/assets/colab-badge.svg\" alt=\"Open In Colab\"/></a>"
      ]
    },
    {
      "cell_type": "markdown",
      "metadata": {
        "id": "YfJsWPpAK-3f"
      },
      "source": [
        "## Sitzung 5: Plagiatserkennung - Teil 2\n",
        "Heute schauen wir uns an, wie man mit Ähnlichkeitsmethoden einen Plagiatserkenner trainiert. Wir bauen auf die Ähnlichkeitsmaße aus der letzten Sitzung auf."
      ]
    },
    {
      "cell_type": "markdown",
      "source": [
        "**Schritt 1: String Similarity / Oberflächenähnlichkeit**\n",
        "Dieser Code sollte Ihnen aus der letzten Sitzung bekannt vorkommen."
      ],
      "metadata": {
        "id": "6owx9YXU68X9"
      }
    },
    {
      "cell_type": "code",
      "source": [
        "!pip install -U strsimpy # installiere die notwendigen Pakete\n",
        "!pip install pylcs"
      ],
      "metadata": {
        "id": "RGE6qkTC66_0"
      },
      "execution_count": null,
      "outputs": []
    },
    {
      "cell_type": "code",
      "source": [
        "from strsimpy.levenshtein import Levenshtein\n",
        "from pylcs import lcs_string_length\n",
        "\n",
        "levenshtein = Levenshtein()\n",
        "\n",
        "# Beispiele, die Sie zum Austesten verändern können\n",
        "s1 = 'Ein Beispiel'\n",
        "s2 = 'Ein Beispöl'\n",
        "s3 = 'Anna isst einen Apfel'\n",
        "s4 = 'Anna ist eine Apfelsine.'\n",
        "\n",
        "#Levenshtein distance\n",
        "print(levenshtein.distance(s1, s2))\n",
        "print(levenshtein.distance(s3, s4))\n",
        "\n",
        "# Longest Common Substring\n",
        "print(lcs_string_length(s1, s2))\n",
        "print(lcs_string_length(s3, s4))\n"
      ],
      "metadata": {
        "id": "ervlFSMXWG2-"
      },
      "execution_count": null,
      "outputs": []
    },
    {
      "cell_type": "markdown",
      "source": [
        "**Schritt 2: Semantic Similarity**\n",
        "Auch diesen Code kennen Sie bereits."
      ],
      "metadata": {
        "id": "9kNnQuJw8-p6"
      }
    },
    {
      "cell_type": "code",
      "source": [
        "!pip install -U sentence-transformers\n",
        "from sentence_transformers import SentenceTransformer, util\n",
        "model = SentenceTransformer('distiluse-base-multilingual-cased-v1')"
      ],
      "metadata": {
        "id": "pkJWYQ6jXhjw"
      },
      "execution_count": null,
      "outputs": []
    },
    {
      "cell_type": "code",
      "source": [
        "def compute_semantic_similarity(s1, s2):\n",
        "    embeddings1 = model.encode([s1], convert_to_tensor=True)\n",
        "    embeddings2 = model.encode([s2], convert_to_tensor=True)\n",
        "    return util.cos_sim(embeddings1, embeddings2)[0][0]\n",
        "\n",
        "print(\"{:.4f}\".format(compute_semantic_similarity(\"Mary walks home.\", \"Mary goes to her house\")))\n",
        "print(\"{:.4f}\".format(compute_semantic_similarity(\"Maria geht nach Hause.\", \"Maria fährt heim.\")))"
      ],
      "metadata": {
        "id": "1yLISXfX9H2p"
      },
      "execution_count": null,
      "outputs": []
    },
    {
      "cell_type": "markdown",
      "source": [
        "**Aufgabe 1 (von letzter Woche):** Nehmen Sie an, Sie möchten den ersten Abschnitt des Wikipediaartikels zum Thema Plagiat plagiieren. Er lautet \"Ein Plagiat ist die Anmaßung fremder geistiger Leistungen. Dies kann sich auf die Übernahme fremder Texte oder anderer Darstellungen bzw. Ideen beziehen, z. B. Zeitungs-, Magazinartikel, Fotos, Filme, Tonaufnahmen, Musik sowie Erfindungen, Design, wissenschaftliche Erkenntnisse, Melodien oder beides gleichzeitig.\"\n",
        "\n",
        "Probieren Sie, wie Sie diese beiden Sätze so umformen können, dass durch Ihre Methoden möglichst nicht mehr direkt als Plagiat erkennbar sind. Probieren Sie verschiedene Optionen aus und beobachten Sie, wie sich die Werte der Metriken verändern."
      ],
      "metadata": {
        "id": "QHfG0XZs1zl4"
      }
    },
    {
      "cell_type": "markdown",
      "source": [
        "**Schritt 3:** \"To be or not to be that is the question\" schrieb Shakespeare. Finden Sie - für jedes der drei Maße - den ähnlichsten Satz bei Jane Austen. Ist der Satz ein Plagiat? Hier eine mögliche Lösung - ebenfalls von letzter Woche."
      ],
      "metadata": {
        "id": "TUJ12RWo0gg5"
      }
    },
    {
      "cell_type": "code",
      "source": [
        "import nltk\n",
        "nltk.download('gutenberg')\n",
        "nltk.download('punkt')\n",
        "from nltk.corpus import gutenberg\n",
        "\n",
        "austen1 = gutenberg.sents('austen-emma.txt')\n",
        "shakespeare = \"To be or not to be that is the question .\"\n",
        "maxSim = 0.0\n",
        "bestSentence = \"dummy\"\n",
        "for sent in austen1:\n",
        "  text = \" \".join(sent) # macht aus der Liste von Tokens wieder einen Text.\n",
        "  sim = compute_semantic_similarity(shakespeare, text)\n",
        "  if (sim > maxSim):\n",
        "      print(\"new most similar sentence: \", sim, text)\n",
        "      maxSim = sim\n",
        "print(\"Final results: \", maxSim, bestSentence)\n"
      ],
      "metadata": {
        "id": "1_j3QUHk13WX"
      },
      "execution_count": null,
      "outputs": []
    },
    {
      "cell_type": "markdown",
      "source": [
        "**Schritt 4:** Um nach \"echten \" Plagiaten suchen können, ergänzen wir das Jane Austen Corpus um einige plagiierte Versionen des Shakespear-Zitates. Außerdem merken wir uns in einem separaten Array für jeden Satz das Label als kein-Plagiat (K) oder Plagiat (P). (Sie erinnern sich, das haben wir beim Machine Learninig vor zwei Sitzungen auch schon so gemacht) Natürlich sind nur unsere Ergänzungen Plagiate."
      ],
      "metadata": {
        "id": "Avs0U9m3XzUe"
      }
    },
    {
      "cell_type": "code",
      "source": [
        "plagiate = [\"Not to be or to be is an important question\", \"I am wondering whether one should be.\", \"Existence is very relevant\", \"Sein oder nichtsein, das ist hier die Frage\"]\n",
        "austen_sentences = [\" \".join(sent) for sent in austen1]\n",
        "gold_labels = [\"K\" for sent in austen1]\n",
        "print(austen_sentences)\n",
        "print(gold_labels)"
      ],
      "metadata": {
        "id": "RacUjE1pXw1b"
      },
      "execution_count": null,
      "outputs": []
    },
    {
      "cell_type": "markdown",
      "source": [
        "**Aufgabe 2:** Ergänzen Sie 5 weitere Sätze, die Plagiate des Shakespearezitats sind mit dem Label P."
      ],
      "metadata": {
        "id": "Ikt_zJ4AZ2e0"
      }
    },
    {
      "cell_type": "markdown",
      "source": [
        "**Aufgabe 3:** Benutzen Sie den Algorithmus von oben und suchen Sie den ähnlichsten Satz. Ist er ein Plagiat?"
      ],
      "metadata": {
        "id": "HH8FLyyTapW1"
      }
    },
    {
      "cell_type": "markdown",
      "source": [
        "**Aufgabe 4:** Als nächstes sollen Sie die Sätze nach ihrer Ähnlichkeit zum Originalzitat sortieren. Sie müssen sich dafür also jede Ähnlichkeit zusammen mit dem Satz merken. Führen Sie den Code aus und testen Sie was passiert. TODO: plus Anpassungen"
      ],
      "metadata": {
        "id": "PqPlvIFCa-YB"
      }
    },
    {
      "cell_type": "markdown",
      "source": [
        "**Aufgabe 5:** Setzen Sie einen Threshold bei 0.9 und berechnen Sie Precision und Recall."
      ],
      "metadata": {
        "id": "guKprPM7bZqL"
      }
    },
    {
      "cell_type": "markdown",
      "source": [
        "**Aufgabe 6:**  Finden Sie den Threshold, der den F-Score maximiert."
      ],
      "metadata": {
        "id": "iG6smOqrbk_s"
      }
    }
  ],
  "metadata": {
    "colab": {
      "provenance": [],
      "authorship_tag": "ABX9TyPtAs4unRlBUIZtE1aZrnSw",
      "include_colab_link": true
    },
    "kernelspec": {
      "display_name": "Python 3",
      "name": "python3"
    },
    "language_info": {
      "name": "python"
    }
  },
  "nbformat": 4,
  "nbformat_minor": 0
}