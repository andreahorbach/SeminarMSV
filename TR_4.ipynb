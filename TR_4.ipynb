{
  "cells": [
    {
      "cell_type": "markdown",
      "metadata": {
        "id": "view-in-github",
        "colab_type": "text"
      },
      "source": [
        "<a href=\"https://colab.research.google.com/github/andreahorbach/SeminarMSV/blob/main/TR_4.ipynb\" target=\"_parent\"><img src=\"https://colab.research.google.com/assets/colab-badge.svg\" alt=\"Open In Colab\"/></a>"
      ]
    },
    {
      "cell_type": "markdown",
      "metadata": {
        "id": "YfJsWPpAK-3f"
      },
      "source": [
        "## Sitzung 4: Plagiatserkennung\n",
        "In der heutigen Session schauen wir uns Methoden an, mit denen man die Ähnlichkeit zwischen zwei Texten bestimmen kann."
      ]
    },
    {
      "cell_type": "markdown",
      "source": [
        "**Schritt 1: String Similarity / Oberflächenähnlichkeit**\n",
        "Als erstes schauen wir uns 2 String-Similarity-Maße an: Edit distance, und Longest Common Substring. Wir betrachten die Modelle dabei als black box, d.h. wir schauen uns die zugrundeliegenden Algorithmen nicht im Detail an, sondern probieren aus, wie sie mit verschiedenem Input umgehen."
      ],
      "metadata": {
        "id": "6owx9YXU68X9"
      }
    },
    {
      "cell_type": "code",
      "source": [
        "!pip install -U strsimpy # installiere die notwendigen Pakete\n",
        "!pip install pylcs"
      ],
      "metadata": {
        "id": "RGE6qkTC66_0"
      },
      "execution_count": null,
      "outputs": []
    },
    {
      "cell_type": "code",
      "source": [
        "from strsimpy.levenshtein import Levenshtein\n",
        "from pylcs import lcs_string_length\n",
        "\n",
        "levenshtein = Levenshtein()\n",
        "\n",
        "# Beispiele, die Sie zum Austesten verändern können\n",
        "s1 = 'Ein Beispiel'\n",
        "s2 = 'Ein Beispöl'\n",
        "s3 = 'Anna isst einen Apfel'\n",
        "s4 = 'Anna ist eine Apfelsine.'\n",
        "\n",
        "#Levenshtein distance\n",
        "print(levenshtein.distance(s1, s2))\n",
        "print(levenshtein.distance(s3, s4))\n",
        "\n",
        "# Longest Common Substring\n",
        "print(lcs_string_length(s1, s2))\n",
        "print(lcs_string_length(s3, s4))\n"
      ],
      "metadata": {
        "id": "ervlFSMXWG2-"
      },
      "execution_count": null,
      "outputs": []
    },
    {
      "cell_type": "markdown",
      "source": [
        "**Aufgabe 1:** Probieren Sei die Maße aus.\n",
        "a) Ist ein hoher Rückgabewert jeweils ein Zeichen dafür, dass die Texte sehr ähnlich oder sehr verschieden sind?\n",
        "b) Welchen Wertebereich decken die beiden Maße ab? Versuchen Sie einen möglichst hohen und einen möglichst niedirgen Wert zu bekommen. Wie gehen Sie vor?"
      ],
      "metadata": {
        "id": "RUbiXjcn8S74"
      }
    },
    {
      "cell_type": "markdown",
      "source": [
        "**Schritt 2: Semantic Similarity**\n",
        "Als nächtes schauen wir uns die inhaltliche Ähnlicheit an. Auch hier können Sie das Model wieder als Black-Box verwenden."
      ],
      "metadata": {
        "id": "9kNnQuJw8-p6"
      }
    },
    {
      "cell_type": "code",
      "source": [
        "!pip install -U sentence-transformers\n",
        "from sentence_transformers import SentenceTransformer, util\n",
        "model = SentenceTransformer('distiluse-base-multilingual-cased-v1')"
      ],
      "metadata": {
        "id": "pkJWYQ6jXhjw"
      },
      "execution_count": null,
      "outputs": []
    },
    {
      "cell_type": "code",
      "source": [
        "def compute_semantic_similarity(s1, s2):\n",
        "    embeddings1 = model.encode([s1], convert_to_tensor=True)\n",
        "    embeddings2 = model.encode([s2], convert_to_tensor=True)\n",
        "    return util.cos_sim(embeddings1, embeddings2)[0][0]\n",
        "\n",
        "print(\"{:.4f}\".format(compute_semantic_similarity(\"Mary walks home.\", \"Mary goes to her house\")))\n",
        "print(\"{:.4f}\".format(compute_semantic_similarity(\"Maria geht nach Hause.\", \"Maria fährt heim.\")))"
      ],
      "metadata": {
        "id": "1yLISXfX9H2p"
      },
      "execution_count": null,
      "outputs": []
    },
    {
      "cell_type": "markdown",
      "source": [
        "**Aufgabe 2:** Wie oben, finden Sie heraus, was ein hoher bzw niedriger Wert bedeutet und versuchen Sie jeweils ein Paar Beispielsätze mit besonders hohem bzw besonders niedrigem Wert zu finden."
      ],
      "metadata": {
        "id": "0Ds6el7L0PCC"
      }
    },
    {
      "cell_type": "markdown",
      "source": [
        "**Aufgabe 3:** Nehmen Sie an, Sie möchten den ersten Abschnitt des Wikipediaartikels zum Thema Plagiat plagiieren. Er lautet \"Ein Plagiat ist die Anmaßung fremder geistiger Leistungen. Dies kann sich auf die Übernahme fremder Texte oder anderer Darstellungen bzw. Ideen beziehen, z. B. Zeitungs-, Magazinartikel, Fotos, Filme, Tonaufnahmen, Musik sowie Erfindungen, Design, wissenschaftliche Erkenntnisse, Melodien oder beides gleichzeitig.\"\n",
        "\n",
        "Probieren Sie, wie Sie diese beiden Sätze so umformen können, dass durch Ihre Methoden möglichst nicht mehr direkt als Plagiat erkennbar sind. Probieren Sie verschiedene Optionen aus und beobachten Sie, wie sich die Werte der Metriken verändern."
      ],
      "metadata": {
        "id": "QHfG0XZs1zl4"
      }
    },
    {
      "cell_type": "markdown",
      "source": [
        "**Aufgabe 4:** \"To be or not to be that is the question\" schrieb Shakespeare. Finden Sie - für jedes der drei Maße - den ähnlichsten Satz bei Jane Austen. Ist der Satz ein Plagiat?"
      ],
      "metadata": {
        "id": "TUJ12RWo0gg5"
      }
    },
    {
      "cell_type": "code",
      "source": [],
      "metadata": {
        "id": "1_j3QUHk13WX"
      },
      "execution_count": null,
      "outputs": []
    }
  ],
  "metadata": {
    "colab": {
      "provenance": [],
      "authorship_tag": "ABX9TyOlhrHgfAz92ucRBxKmlCN0",
      "include_colab_link": true
    },
    "kernelspec": {
      "display_name": "Python 3",
      "name": "python3"
    },
    "language_info": {
      "name": "python"
    }
  },
  "nbformat": 4,
  "nbformat_minor": 0
}